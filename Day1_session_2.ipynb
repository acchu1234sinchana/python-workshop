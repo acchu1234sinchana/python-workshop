{
  "nbformat": 4,
  "nbformat_minor": 0,
  "metadata": {
    "colab": {
      "name": "Day1 session 2.ipynb",
      "provenance": [],
      "authorship_tag": "ABX9TyMqnwzfcuFIgq9FClHL4Cae",
      "include_colab_link": true
    },
    "kernelspec": {
      "name": "python3",
      "display_name": "Python 3"
    }
  },
  "cells": [
    {
      "cell_type": "markdown",
      "metadata": {
        "id": "view-in-github",
        "colab_type": "text"
      },
      "source": [
        "<a href=\"https://colab.research.google.com/github/acchu1234sinchana/python-workshop/blob/master/Day1_session_2.ipynb\" target=\"_parent\"><img src=\"https://colab.research.google.com/assets/colab-badge.svg\" alt=\"Open In Colab\"/></a>"
      ]
    },
    {
      "cell_type": "code",
      "metadata": {
        "id": "PxEivlav6Int",
        "colab_type": "code",
        "colab": {}
      },
      "source": [
        "#Python Program to find the factorial of a number using loop"
      ],
      "execution_count": null,
      "outputs": []
    },
    {
      "cell_type": "code",
      "metadata": {
        "id": "FORWFLAx6RDF",
        "colab_type": "code",
        "colab": {
          "base_uri": "https://localhost:8080/",
          "height": 67
        },
        "outputId": "8e39c9e7-36c3-40c4-d80e-f553e99f08f4"
      },
      "source": [
        "n=int(input(\"Enter number:\"))\n",
        "fact=1\n",
        "\n",
        "while(n>0):\n",
        "    fact=fact*n\n",
        "    n=n-1\n",
        "print(\"Factorial of the number is: \")\n",
        "print(fact)\n",
        "\n"
      ],
      "execution_count": 1,
      "outputs": [
        {
          "output_type": "stream",
          "text": [
            "Enter number:12\n",
            "Factorial of the number is: \n",
            "479001600\n"
          ],
          "name": "stdout"
        }
      ]
    },
    {
      "cell_type": "markdown",
      "metadata": {
        "id": "zCrFIiS56bgb",
        "colab_type": "text"
      },
      "source": [
        "#Python Program to reverse a number using loop "
      ]
    },
    {
      "cell_type": "code",
      "metadata": {
        "id": "rLSyuZkw6fcw",
        "colab_type": "code",
        "colab": {
          "base_uri": "https://localhost:8080/",
          "height": 67
        },
        "outputId": "5f2a3b1d-82e7-4d66-9489-f22767a5d19d"
      },
      "source": [
        "r=0\n",
        "n=int(input(\"Enter a number: \"))\n",
        "while(n>0):\n",
        "    dig=n%10\n",
        "    r=r*10+dig\n",
        "    n=n//10\n",
        "print(\"The reversed no  is:\")\n",
        "print(r)\n",
        "\n"
      ],
      "execution_count": 2,
      "outputs": [
        {
          "output_type": "stream",
          "text": [
            "Enter a number: 12\n",
            "The reversed no  is:\n",
            "21\n"
          ],
          "name": "stdout"
        }
      ]
    },
    {
      "cell_type": "markdown",
      "metadata": {
        "id": "4xAv74sy6k93",
        "colab_type": "text"
      },
      "source": [
        "#Write a Python program to construct the following pattern, using a nested for loop"
      ]
    },
    {
      "cell_type": "code",
      "metadata": {
        "id": "lsmcIDXh6nqq",
        "colab_type": "code",
        "colab": {
          "base_uri": "https://localhost:8080/",
          "height": 185
        },
        "outputId": "2a44850b-f319-428d-b8c3-224b0caa21df"
      },
      "source": [
        "n=5;\n",
        "for i in range(n):\n",
        "    for j in range(i):\n",
        "        print ('* ', end=\"\")\n",
        "    print('')\n",
        "\n",
        "for i in range(n,0,-1):\n",
        "    for j in range(i):\n",
        "        print('* ', end=\"\")\n",
        "    print('')\n"
      ],
      "execution_count": 3,
      "outputs": [
        {
          "output_type": "stream",
          "text": [
            "\n",
            "* \n",
            "* * \n",
            "* * * \n",
            "* * * * \n",
            "* * * * * \n",
            "* * * * \n",
            "* * * \n",
            "* * \n",
            "* \n"
          ],
          "name": "stdout"
        }
      ]
    },
    {
      "cell_type": "markdown",
      "metadata": {
        "id": "7pRwXry_6whn",
        "colab_type": "text"
      },
      "source": [
        "#Python Program to replace all occurrences of ‘a’ with ‘$’ in a string"
      ]
    },
    {
      "cell_type": "code",
      "metadata": {
        "id": "gK46CTKw60dV",
        "colab_type": "code",
        "colab": {
          "base_uri": "https://localhost:8080/",
          "height": 67
        },
        "outputId": "3405f0e4-0bed-4560-a842-e94b3c9766cc"
      },
      "source": [
        "string=input(\"Enter string:\")\n",
        "string=string.replace('a','$')\n",
        "string=string.replace('A','$')\n",
        "print(\"Modified string:\")\n",
        "print(string)\n"
      ],
      "execution_count": 4,
      "outputs": [
        {
          "output_type": "stream",
          "text": [
            "Enter string:12\n",
            "Modified string:\n",
            "12\n"
          ],
          "name": "stdout"
        }
      ]
    },
    {
      "cell_type": "markdown",
      "metadata": {
        "id": "MRm_B63l65sD",
        "colab_type": "text"
      },
      "source": [
        "#Python Program to remove the nth index character from a non-empty string"
      ]
    },
    {
      "cell_type": "code",
      "metadata": {
        "id": "1bpCPDS469Dr",
        "colab_type": "code",
        "colab": {
          "base_uri": "https://localhost:8080/",
          "height": 84
        },
        "outputId": "2cecf411-1e48-4cda-d8eb-a74377ce4b1d"
      },
      "source": [
        "def remove(string, n):  \n",
        "      first = string[:n]   \n",
        "      last = string[n+1:]  \n",
        "      return first + last\n",
        "string=input(\"Enter the sring:\")\n",
        "n=int(input(\"Enter the index of the character to remove:\"))\n",
        "print(\"Modified string:\")\n",
        "print(remove(string, n))\n"
      ],
      "execution_count": 5,
      "outputs": [
        {
          "output_type": "stream",
          "text": [
            "Enter the sring:45\n",
            "Enter the index of the character to remove:87\n",
            "Modified string:\n",
            "45\n"
          ],
          "name": "stdout"
        }
      ]
    },
    {
      "cell_type": "markdown",
      "metadata": {
        "id": "UEdflonM7D-A",
        "colab_type": "text"
      },
      "source": [
        "#Python Program to detect if two strings are anagrams"
      ]
    },
    {
      "cell_type": "code",
      "metadata": {
        "id": "WTTYwCvn7IZm",
        "colab_type": "code",
        "colab": {
          "base_uri": "https://localhost:8080/",
          "height": 67
        },
        "outputId": "511c6f37-8dc4-4835-a8b9-4413bce1b989"
      },
      "source": [
        "s1=input(\"Enter first string:\")\n",
        "s2=input(\"Enter second string:\")\n",
        "if(sorted(s1)==sorted(s2)):\n",
        "      print(\"The strings are anagrams.\")\n",
        "else:\n",
        "      print(\"The strings aren't anagrams.\")\n"
      ],
      "execution_count": 6,
      "outputs": [
        {
          "output_type": "stream",
          "text": [
            "Enter first string:456\n",
            "Enter second string:87\n",
            "The strings aren't anagrams.\n"
          ],
          "name": "stdout"
        }
      ]
    },
    {
      "cell_type": "markdown",
      "metadata": {
        "id": "fIMvl10y7PBX",
        "colab_type": "text"
      },
      "source": [
        "#Python Program to form a string where the first character and the last character have been exchanged"
      ]
    },
    {
      "cell_type": "code",
      "metadata": {
        "id": "-eUCzX5U7SEw",
        "colab_type": "code",
        "colab": {
          "base_uri": "https://localhost:8080/",
          "height": 67
        },
        "outputId": "43e6decd-363e-4671-b633-9b509a61fa2d"
      },
      "source": [
        "def change(string):\n",
        "      return string[-1:] + string[1:-1] + string[:1]\n",
        "string=input(\"Enter string:\")\n",
        "print(\"Modified string:\")\n",
        "print(change(string))\n"
      ],
      "execution_count": 7,
      "outputs": [
        {
          "output_type": "stream",
          "text": [
            "Enter string:45\n",
            "Modified string:\n",
            "54\n"
          ],
          "name": "stdout"
        }
      ]
    },
    {
      "cell_type": "markdown",
      "metadata": {
        "id": "N0L92RZ97XQN",
        "colab_type": "text"
      },
      "source": [
        "#Python Program to  count number of vowels from a non-empty string"
      ]
    },
    {
      "cell_type": "code",
      "metadata": {
        "id": "dcrZPOGP7c4J",
        "colab_type": "code",
        "colab": {
          "base_uri": "https://localhost:8080/",
          "height": 67
        },
        "outputId": "3f56ce85-c239-46ae-a2d1-93e3b7e7e7bd"
      },
      "source": [
        "string=input(\"Enter string:\")\n",
        "vowels=0\n",
        "for i in string:\n",
        "      if(i=='a' or i=='e' or i=='i' or i=='o' or i=='u' or i=='A' or i=='E' or i=='I' or i=='O' or i=='U'):\n",
        "            vowels=vowels+1\n",
        "print(\"Number of vowels are:\")\n",
        "print(vowels)\n"
      ],
      "execution_count": 8,
      "outputs": [
        {
          "output_type": "stream",
          "text": [
            "Enter string:t\n",
            "Number of vowels are:\n",
            "0\n"
          ],
          "name": "stdout"
        }
      ]
    },
    {
      "cell_type": "markdown",
      "metadata": {
        "id": "ljoGoKAK7je9",
        "colab_type": "text"
      },
      "source": [
        "#Program for Divide by zero error detection"
      ]
    },
    {
      "cell_type": "code",
      "metadata": {
        "id": "WT9K5cIP7oPG",
        "colab_type": "code",
        "colab": {
          "base_uri": "https://localhost:8080/",
          "height": 101
        },
        "outputId": "84db8896-4950-4ab7-bd48-2d1b165ee816"
      },
      "source": [
        "flag = True\n",
        "\n",
        "def div(a, b):  \n",
        "       try:\n",
        "            print(\"Finally the division of %d/%d is %f\" % (a, b,a/b))\n",
        "            global flag\n",
        "            flag=False\n",
        "       except ZeroDivisionError:\n",
        "            print(\"Zero Division Error detected\")\n",
        "       else:\n",
        "            print(\"Division is successful\") \n",
        "       finally:\n",
        "            if flag is True:\n",
        "               print(\"Try again\")     \n",
        "            else:\n",
        "               print(\"Thank you\")\n",
        "       \n",
        "#global flag\n",
        "\n",
        "while flag is True:\n",
        "    div(int(input(\"Enter numerator\")),int(input(\"Enter denominator\")))\n",
        "\n"
      ],
      "execution_count": 9,
      "outputs": [
        {
          "output_type": "stream",
          "text": [
            "Enter numerator45\n",
            "Enter denominator87\n",
            "Finally the division of 45/87 is 0.517241\n",
            "Division is successful\n",
            "Thank you\n"
          ],
          "name": "stdout"
        }
      ]
    },
    {
      "cell_type": "markdown",
      "metadata": {
        "id": "3fUFxsUI7xhu",
        "colab_type": "text"
      },
      "source": [
        "#Program for ValueError error detection"
      ]
    },
    {
      "cell_type": "code",
      "metadata": {
        "id": "OS6lmn7W71i6",
        "colab_type": "code",
        "colab": {
          "base_uri": "https://localhost:8080/",
          "height": 50
        },
        "outputId": "c740be1a-31a1-4023-81eb-116b8bfcd970"
      },
      "source": [
        "while True:\n",
        "     try:\n",
        "         x = int(input(\"Please enter a number: \"))\n",
        "         print(\" That was valid number. Thank you\")\n",
        "         break\n",
        "     except ValueError:\n",
        "         print(\"Oops!  That was no valid number.  Try again...\")\n",
        "\n",
        "\n",
        "\n",
        "\n",
        "\n",
        "\n",
        "\n"
      ],
      "execution_count": 10,
      "outputs": [
        {
          "output_type": "stream",
          "text": [
            "Please enter a number: 34\n",
            " That was valid number. Thank you\n"
          ],
          "name": "stdout"
        }
      ]
    },
    {
      "cell_type": "markdown",
      "metadata": {
        "id": "5SJ9A9e_79uG",
        "colab_type": "text"
      },
      "source": [
        "#Enter number 5"
      ]
    },
    {
      "cell_type": "code",
      "metadata": {
        "id": "AcYe6gCu8FO2",
        "colab_type": "code",
        "colab": {
          "base_uri": "https://localhost:8080/",
          "height": 118
        },
        "outputId": "9f4c40d5-c90c-4802-f88c-59502764efcf"
      },
      "source": [
        "rows = 5\n",
        "for i in range(0, rows + 1):\n",
        "    for j in range(rows - i, 0, -1):\n",
        "        print(j, end=' ')\n",
        "    print()"
      ],
      "execution_count": 11,
      "outputs": [
        {
          "output_type": "stream",
          "text": [
            "5 4 3 2 1 \n",
            "4 3 2 1 \n",
            "3 2 1 \n",
            "2 1 \n",
            "1 \n",
            "\n"
          ],
          "name": "stdout"
        }
      ]
    },
    {
      "cell_type": "markdown",
      "metadata": {
        "id": "rqeidMRO8NYn",
        "colab_type": "text"
      },
      "source": [
        "#Find the length of a string without using len functions"
      ]
    },
    {
      "cell_type": "code",
      "metadata": {
        "id": "tWW3h-NU8SxJ",
        "colab_type": "code",
        "colab": {
          "base_uri": "https://localhost:8080/",
          "height": 50
        },
        "outputId": "dd19f2ec-3e08-474c-b799-0b2e6b89303f"
      },
      "source": [
        "str = input(\"Enter a string: \")\n",
        "\n",
        "# counter variable to count the character in a string\n",
        "counter = 0\n",
        "for s in str:\n",
        "      counter = counter+1\n",
        "print(\"Length of the input string is:\", counter)"
      ],
      "execution_count": 12,
      "outputs": [
        {
          "output_type": "stream",
          "text": [
            "Enter a string: 5\n",
            "Length of the input string is: 1\n"
          ],
          "name": "stdout"
        }
      ]
    },
    {
      "cell_type": "markdown",
      "metadata": {
        "id": "ah40_6_o8fUA",
        "colab_type": "text"
      },
      "source": [
        "#Enter number 4"
      ]
    },
    {
      "cell_type": "code",
      "metadata": {
        "id": "jbpmbDHf8k6l",
        "colab_type": "code",
        "colab": {
          "base_uri": "https://localhost:8080/",
          "height": 101
        },
        "outputId": "241a9ac8-2b29-4248-eb1e-ee4b33cf087c"
      },
      "source": [
        "rows = int(input(\"enter number\"))\n",
        "for j in range(1,rows+1):\n",
        " print(\" * \" * j)"
      ],
      "execution_count": 14,
      "outputs": [
        {
          "output_type": "stream",
          "text": [
            "enter number4\n",
            " * \n",
            " *  * \n",
            " *  *  * \n",
            " *  *  *  * \n"
          ],
          "name": "stdout"
        }
      ]
    }
  ]
}