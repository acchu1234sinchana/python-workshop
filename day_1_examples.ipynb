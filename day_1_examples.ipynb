{
  "nbformat": 4,
  "nbformat_minor": 0,
  "metadata": {
    "colab": {
      "name": "day 1 examples.ipynb",
      "provenance": [],
      "authorship_tag": "ABX9TyMvTvFTraHFRyQGRRsrQdr0",
      "include_colab_link": true
    },
    "kernelspec": {
      "name": "python3",
      "display_name": "Python 3"
    }
  },
  "cells": [
    {
      "cell_type": "markdown",
      "metadata": {
        "id": "view-in-github",
        "colab_type": "text"
      },
      "source": [
        "<a href=\"https://colab.research.google.com/github/acchu1234sinchana/python-workshop/blob/master/day_1_examples.ipynb\" target=\"_parent\"><img src=\"https://colab.research.google.com/assets/colab-badge.svg\" alt=\"Open In Colab\"/></a>"
      ]
    },
    {
      "cell_type": "code",
      "metadata": {
        "id": "x8wGpclg5vrn",
        "colab_type": "code",
        "colab": {}
      },
      "source": [
        "#Find the compound interest for the given p,n,r  "
      ],
      "execution_count": null,
      "outputs": []
    },
    {
      "cell_type": "code",
      "metadata": {
        "id": "ODkfNjYg52wq",
        "colab_type": "code",
        "colab": {
          "base_uri": "https://localhost:8080/",
          "height": 34
        },
        "outputId": "6785e926-9a5b-4a1a-f307-fae2d4ad98de"
      },
      "source": [
        "def compound_interest(principle, rate, n): \n",
        "\n",
        "  \n",
        "\n",
        "    # Calculates compound interest  \n",
        "\n",
        "    Amount = principle * (pow((1 +(n * rate) / 100), n)) \n",
        "\n",
        "    CI = Amount - principle \n",
        "\n",
        "    print(\"Compound interest is\", CI) \n",
        "\n",
        "  \n",
        "# Driver Code  \n",
        "\n",
        "compound_interest(10000, 10.25, 5)"
      ],
      "execution_count": 1,
      "outputs": [
        {
          "output_type": "stream",
          "text": [
            "Compound interest is 69154.73816223144\n"
          ],
          "name": "stdout"
        }
      ]
    },
    {
      "cell_type": "markdown",
      "metadata": {
        "id": "SXSsnvyb6Ivz",
        "colab_type": "text"
      },
      "source": [
        "#Convert centegrade to farenheit "
      ]
    },
    {
      "cell_type": "code",
      "metadata": {
        "id": "6zA3GTMW6NQh",
        "colab_type": "code",
        "colab": {
          "base_uri": "https://localhost:8080/",
          "height": 50
        },
        "outputId": "62b08a44-d4bf-4eaa-c51a-0c21b32c3f8f"
      },
      "source": [
        "celsius = float(input(\"Enter temperature in celsius: \"))\n",
        "fahrenheit = (celsius * 9/5) + 32\n",
        "print('%.2f Celsius is: %0.2f Fahrenheit' %(celsius, fahrenheit))"
      ],
      "execution_count": 2,
      "outputs": [
        {
          "output_type": "stream",
          "text": [
            "Enter temperature in celsius: 23\n",
            "23.00 Celsius is: 73.40 Fahrenheit\n"
          ],
          "name": "stdout"
        }
      ]
    },
    {
      "cell_type": "markdown",
      "metadata": {
        "id": "8zGQrhFX6W6O",
        "colab_type": "text"
      },
      "source": [
        "#Find the greater of two nos "
      ]
    },
    {
      "cell_type": "code",
      "metadata": {
        "id": "FDs3384N6cmc",
        "colab_type": "code",
        "colab": {
          "base_uri": "https://localhost:8080/",
          "height": 67
        },
        "outputId": "1d5b8962-322f-44e4-f257-2be5838558b3"
      },
      "source": [
        "a = float(input(\" Please Enter the First Value a: \"))\n",
        "b = float(input(\" Please Enter the Second Value b: \"))\n",
        "\n",
        "if(a > b):\n",
        "    print(\"{0} is Greater than {1}\".format(a, b))\n",
        "elif(b > a):\n",
        "    print(\"{0} is Greater than {1}\".format(b, a))\n",
        "else:\n",
        "    print(\"Both a and b are Equal\")"
      ],
      "execution_count": 3,
      "outputs": [
        {
          "output_type": "stream",
          "text": [
            " Please Enter the First Value a: 12\n",
            " Please Enter the Second Value b: 34\n",
            "34.0 is Greater than 12.0\n"
          ],
          "name": "stdout"
        }
      ]
    },
    {
      "cell_type": "markdown",
      "metadata": {
        "id": "gmtK-Hq19uYT",
        "colab_type": "text"
      },
      "source": [
        "#\tWrite a program for finding surface areas of cylinder and cone "
      ]
    },
    {
      "cell_type": "code",
      "metadata": {
        "id": "WtAUdlWR93F9",
        "colab_type": "code",
        "colab": {
          "base_uri": "https://localhost:8080/",
          "height": 50
        },
        "outputId": "67d65377-3093-467a-c1bf-6d5a403f7fb6"
      },
      "source": [
        "import math \n",
        "\n",
        "pi = math.pi \n",
        "# Function To Calculate Surface Area of Cone \n",
        "\n",
        "def surfacearea(r, s): \n",
        "\n",
        "    return pi * r * s + pi * r * r \n",
        "\n",
        "# Function To Calculate Total Surface Area \n",
        "# of Cylinder \n",
        "\n",
        "def totalsurfacearea(r, h): \n",
        "\n",
        "    tsurf_ar = (2 * pi * r * h) + (2 * pi * r * r) \n",
        "\n",
        "    return tsurf_ar \n",
        "  \n",
        "# Driver Code \n",
        "\n",
        "radius = float(5) \n",
        "\n",
        "height = float(12) \n",
        "\n",
        "slat_height = float(13) \n",
        "\n",
        "r = 5\n",
        "\n",
        "h = 8\n",
        "print( \"Surface Area Of Cone : \", surfacearea(radius, slat_height) )\n",
        "\n",
        "print(\"Total  Surface Area  Of Cylinder =  \",totalsurfacearea(r,h))"
      ],
      "execution_count": 4,
      "outputs": [
        {
          "output_type": "stream",
          "text": [
            "Surface Area Of Cone :  282.7433388230814\n",
            "Total  Surface Area  Of Cylinder =   408.4070449666731\n"
          ],
          "name": "stdout"
        }
      ]
    },
    {
      "cell_type": "markdown",
      "metadata": {
        "id": "qqcnnnJ9-Mrq",
        "colab_type": "text"
      },
      "source": [
        "#Find the greatest of four nos ( using ‘and’ operator)   using function"
      ]
    },
    {
      "cell_type": "code",
      "metadata": {
        "id": "CxdlDf__-RlM",
        "colab_type": "code",
        "colab": {
          "base_uri": "https://localhost:8080/",
          "height": 67
        },
        "outputId": "996bc87a-1ee8-489a-dcd5-df73b75a4805"
      },
      "source": [
        "# Python Program to find Largest of two Numbers using if-else statements\n",
        "a = int(input(\"Enter the first number: \"))\n",
        "b = int(input(\"Enter the second number: \"))\n",
        "if(a >= b):\n",
        "  print(a, \"is greater\")\n",
        "else:\n",
        "  print(b, \"is greater\")"
      ],
      "execution_count": 5,
      "outputs": [
        {
          "output_type": "stream",
          "text": [
            "Enter the first number: 12\n",
            "Enter the second number: 34\n",
            "34 is greater\n"
          ],
          "name": "stdout"
        }
      ]
    },
    {
      "cell_type": "markdown",
      "metadata": {
        "id": "zKnvSH9Q-qQR",
        "colab_type": "text"
      },
      "source": [
        "#Write a  menu program to perform the operations "
      ]
    },
    {
      "cell_type": "code",
      "metadata": {
        "id": "5twHqfhY-scN",
        "colab_type": "code",
        "colab": {
          "base_uri": "https://localhost:8080/",
          "height": 34
        },
        "outputId": "9fc630db-63bd-425b-9c91-9329e2ac93c4"
      },
      "source": [
        "n1 = 5\n",
        "\n",
        "n2 = 10\n",
        "\n",
        "n3 = 15\n",
        "\n",
        "n4 = 20\n",
        "\n",
        "  \n",
        "\n",
        "mx = (n1 if (n1 > n2 and n1 > n2 and n1 > n4)  \n",
        "\n",
        "         else (n2 if (n2 > n3 and n3 > n4)  \n",
        "\n",
        "         else (n3 if n3 > n4 else n4))) \n",
        "\n",
        "  \n",
        "# str() function is used to convert  \n",
        "# integer to string, it is required  \n",
        "# as we are concatenating integers \n",
        "# with string \n",
        "\n",
        "print(\"Largest number among \" + str(n1) + \", \" + \n",
        "\n",
        "            str(n2) + \", \" + str(n3) + \" and \" + \n",
        "\n",
        "            str(n4) + \" is \" + str(mx))"
      ],
      "execution_count": 7,
      "outputs": [
        {
          "output_type": "stream",
          "text": [
            "Largest number among 5, 10, 15 and 20 is 20\n"
          ],
          "name": "stdout"
        }
      ]
    }
  ]
}